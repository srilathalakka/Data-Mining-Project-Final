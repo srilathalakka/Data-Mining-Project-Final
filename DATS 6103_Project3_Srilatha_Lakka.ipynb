{
 "cells": [
  {
   "cell_type": "code",
   "execution_count": null,
   "metadata": {},
   "outputs": [],
   "source": [
    "'''\n",
    "DATS 6103 Srilatha Lakka Project -3 (Final Project)\n",
    "Purpose of Project\n",
    "1. Learning about Data Mining\n",
    "2. Learning to extract information from raw data using Python \n",
    "3. PV Solar Installation in US\n",
    "4. Who has installed solar panel and who will be the next?'''"
   ]
  },
  {
   "cell_type": "code",
   "execution_count": 46,
   "metadata": {},
   "outputs": [
    {
     "name": "stdout",
     "output_type": "stream",
     "text": [
      "Requirement already satisfied: plotly in c:\\users\\slakka\\appdata\\local\\continuum\\anaconda2\\lib\\site-packages (3.7.1)\n",
      "Requirement already satisfied: requests in c:\\users\\slakka\\appdata\\local\\continuum\\anaconda2\\lib\\site-packages (from plotly) (2.21.0)\n",
      "Requirement already satisfied: nbformat>=4.2 in c:\\users\\slakka\\appdata\\local\\continuum\\anaconda2\\lib\\site-packages (from plotly) (4.4.0)\n",
      "Requirement already satisfied: pytz in c:\\users\\slakka\\appdata\\local\\continuum\\anaconda2\\lib\\site-packages (from plotly) (2018.7)\n",
      "Requirement already satisfied: six in c:\\users\\slakka\\appdata\\local\\continuum\\anaconda2\\lib\\site-packages (from plotly) (1.12.0)\n",
      "Requirement already satisfied: decorator>=4.0.6 in c:\\users\\slakka\\appdata\\local\\continuum\\anaconda2\\lib\\site-packages (from plotly) (4.3.0)\n",
      "Requirement already satisfied: retrying>=1.3.3 in c:\\users\\slakka\\appdata\\local\\continuum\\anaconda2\\lib\\site-packages (from plotly) (1.3.3)\n",
      "Requirement already satisfied: urllib3<1.25,>=1.21.1 in c:\\users\\slakka\\appdata\\local\\continuum\\anaconda2\\lib\\site-packages (from requests->plotly) (1.24.1)\n",
      "Requirement already satisfied: certifi>=2017.4.17 in c:\\users\\slakka\\appdata\\local\\continuum\\anaconda2\\lib\\site-packages (from requests->plotly) (2018.11.29)\n",
      "Requirement already satisfied: idna<2.9,>=2.5 in c:\\users\\slakka\\appdata\\local\\continuum\\anaconda2\\lib\\site-packages (from requests->plotly) (2.8)\n",
      "Requirement already satisfied: chardet<3.1.0,>=3.0.2 in c:\\users\\slakka\\appdata\\local\\continuum\\anaconda2\\lib\\site-packages (from requests->plotly) (3.0.4)\n",
      "Requirement already satisfied: ipython_genutils in c:\\users\\slakka\\appdata\\local\\continuum\\anaconda2\\lib\\site-packages (from nbformat>=4.2->plotly) (0.2.0)\n",
      "Requirement already satisfied: traitlets>=4.1 in c:\\users\\slakka\\appdata\\local\\continuum\\anaconda2\\lib\\site-packages (from nbformat>=4.2->plotly) (4.3.2)\n",
      "Requirement already satisfied: jsonschema!=2.5.0,>=2.4 in c:\\users\\slakka\\appdata\\local\\continuum\\anaconda2\\lib\\site-packages (from nbformat>=4.2->plotly) (2.6.0)\n",
      "Requirement already satisfied: jupyter_core in c:\\users\\slakka\\appdata\\local\\continuum\\anaconda2\\lib\\site-packages (from nbformat>=4.2->plotly) (4.4.0)\n",
      "Requirement already satisfied: enum34 in c:\\users\\slakka\\appdata\\local\\continuum\\anaconda2\\lib\\site-packages (from traitlets>=4.1->nbformat>=4.2->plotly) (1.1.6)\n",
      "Requirement already satisfied: functools32 in c:\\users\\slakka\\appdata\\local\\continuum\\anaconda2\\lib\\site-packages (from jsonschema!=2.5.0,>=2.4->nbformat>=4.2->plotly) (3.2.3.post2)\n"
     ]
    }
   ],
   "source": [
    "! pip install plotly"
   ]
  },
  {
   "cell_type": "code",
   "execution_count": 136,
   "metadata": {},
   "outputs": [
    {
     "data": {
      "text/html": [
       "<script type=\"text/javascript\">window.PlotlyConfig = {MathJaxConfig: 'local'};</script><script type=\"text/javascript\">if (window.MathJax) {MathJax.Hub.Config({SVG: {font: \"STIX-Web\"}});}</script><script>requirejs.config({paths: { 'plotly': ['https://cdn.plot.ly/plotly-latest.min']},});if(!window._Plotly) {require(['plotly'],function(plotly) {window._Plotly=plotly;});}</script>"
      ],
      "text/vnd.plotly.v1+html": [
       "<script type=\"text/javascript\">window.PlotlyConfig = {MathJaxConfig: 'local'};</script><script type=\"text/javascript\">if (window.MathJax) {MathJax.Hub.Config({SVG: {font: \"STIX-Web\"}});}</script><script>requirejs.config({paths: { 'plotly': ['https://cdn.plot.ly/plotly-latest.min']},});if(!window._Plotly) {require(['plotly'],function(plotly) {window._Plotly=plotly;});}</script>"
      ]
     },
     "metadata": {},
     "output_type": "display_data"
    }
   ],
   "source": [
    "from sklearn.metrics import roc_curve, auc\n",
    "import plotly.graph_objs as go#visualization\n",
    "import plotly.tools as tls#visualization\n",
    "import plotly.figure_factory as ff#visualization\n",
    "import plotly.offline as py#visualization\n",
    "py.init_notebook_mode(connected=True)#visualization\n"
   ]
  },
  {
   "cell_type": "code",
   "execution_count": 92,
   "metadata": {},
   "outputs": [
    {
     "data": {
      "text/html": [
       "<script type=\"text/javascript\">window.PlotlyConfig = {MathJaxConfig: 'local'};</script><script type=\"text/javascript\">if (window.MathJax) {MathJax.Hub.Config({SVG: {font: \"STIX-Web\"}});}</script><script>requirejs.config({paths: { 'plotly': ['https://cdn.plot.ly/plotly-latest.min']},});if(!window._Plotly) {require(['plotly'],function(plotly) {window._Plotly=plotly;});}</script>"
      ],
      "text/vnd.plotly.v1+html": [
       "<script type=\"text/javascript\">window.PlotlyConfig = {MathJaxConfig: 'local'};</script><script type=\"text/javascript\">if (window.MathJax) {MathJax.Hub.Config({SVG: {font: \"STIX-Web\"}});}</script><script>requirejs.config({paths: { 'plotly': ['https://cdn.plot.ly/plotly-latest.min']},});if(!window._Plotly) {require(['plotly'],function(plotly) {window._Plotly=plotly;});}</script>"
      ]
     },
     "metadata": {},
     "output_type": "display_data"
    }
   ],
   "source": [
    "# DATS 6103 Srilatha Lakka Project -3 (Final Project)\n",
    "# Purpose of Project\n",
    "#1. Learning about Data Mining\n",
    "#2. Learning to extract information from raw data using Python \n",
    "\n",
    "'''\n",
    "PV Solar Installation in US '''\n",
    "\n",
    "#Import required libraries\n",
    "\n",
    "import pandas as pd\n",
    "import matplotlib\n",
    "import matplotlib.pyplot as plt\n",
    "import plotly\n",
    "import plotly.plotly as py\n",
    "import os\n",
    "import numpy as np\n",
    "%matplotlib inline\n",
    "import plotly.plotly as py\n",
    "from plotly.offline import init_notebook_mode, iplot\n",
    "init_notebook_mode(connected = True)\n",
    "from plotly import tools\n",
    "import warnings\n",
    "warnings.filterwarnings('ignore')\n",
    "import seaborn as sns\n",
    "import math\n",
    "import plotly.graph_objs as go#visualization\n",
    "import plotly.tools as tls#visualization\n",
    "import plotly.figure_factory as ff#visualization\n"
   ]
  },
  {
   "cell_type": "code",
   "execution_count": 93,
   "metadata": {},
   "outputs": [],
   "source": [
    "py.sign_in('slakka','Pf5T4X7egwQ1QcQZhcJM')"
   ]
  },
  {
   "cell_type": "code",
   "execution_count": 94,
   "metadata": {},
   "outputs": [
    {
     "data": {
      "text/html": [
       "<div>\n",
       "<style scoped>\n",
       "    .dataframe tbody tr th:only-of-type {\n",
       "        vertical-align: middle;\n",
       "    }\n",
       "\n",
       "    .dataframe tbody tr th {\n",
       "        vertical-align: top;\n",
       "    }\n",
       "\n",
       "    .dataframe thead th {\n",
       "        text-align: right;\n",
       "    }\n",
       "</style>\n",
       "<table border=\"1\" class=\"dataframe\">\n",
       "  <thead>\n",
       "    <tr style=\"text-align: right;\">\n",
       "      <th></th>\n",
       "      <th>Abbr</th>\n",
       "      <th>Cost</th>\n",
       "    </tr>\n",
       "  </thead>\n",
       "  <tbody>\n",
       "    <tr>\n",
       "      <th>0</th>\n",
       "      <td>AK</td>\n",
       "      <td>19031</td>\n",
       "    </tr>\n",
       "    <tr>\n",
       "      <th>1</th>\n",
       "      <td>AL</td>\n",
       "      <td>22390</td>\n",
       "    </tr>\n",
       "    <tr>\n",
       "      <th>2</th>\n",
       "      <td>AR</td>\n",
       "      <td>18595</td>\n",
       "    </tr>\n",
       "    <tr>\n",
       "      <th>3</th>\n",
       "      <td>AZ</td>\n",
       "      <td>14588</td>\n",
       "    </tr>\n",
       "    <tr>\n",
       "      <th>4</th>\n",
       "      <td>CA</td>\n",
       "      <td>10192</td>\n",
       "    </tr>\n",
       "  </tbody>\n",
       "</table>\n",
       "</div>"
      ],
      "text/plain": [
       "  Abbr   Cost\n",
       "0   AK  19031\n",
       "1   AL  22390\n",
       "2   AR  18595\n",
       "3   AZ  14588\n",
       "4   CA  10192"
      ]
     },
     "execution_count": 94,
     "metadata": {},
     "output_type": "execute_result"
    }
   ],
   "source": [
    "#Extracting PV Solar Installation data by state \n",
    "'''\n",
    "PURPOSE\n",
    "Project idea Photovoltaic (PV) solar panels, which convert solar energy into electricity, are one of the most attractive\n",
    "options for the homeowners. Studies have shown that by 2015, there are about 4.8million homeowners had installed solar \n",
    "panels in the United states of America. and meanwhile, the solar energy market continues growing rapidly. Indeed, \n",
    "the estimated cost and potential saving of solar is the most concerned question. However, there is a tremendous \n",
    "commercial potential for the solar energy business, and visualizing the long term tendency of the market is vital \n",
    "for the solar energy companies’ survival in the market. The visualization process could be realized by examining \n",
    "the following aspects\n",
    "\n",
    "1. PV installations by state\n",
    "\n",
    "Reading excel document sheet Solar\n",
    "'''\n",
    "data_file = pd.read_excel('Solar_cost_by_state.xlsx', sheetname=\"Solar\")\n",
    "\n",
    "df1 = (pd.read_excel('Solar_cost_by_state.xlsx', sheetname=\"Solar\" , usecols=(1,2)).fillna(0))\n",
    "\n",
    "df1.head()\n",
    "\n"
   ]
  },
  {
   "cell_type": "code",
   "execution_count": 95,
   "metadata": {},
   "outputs": [],
   "source": [
    "'''\n",
    "   Map Solar PV installation cost by state\n",
    "'''\n",
    "\n",
    "'''\n",
    "Think solar is out of reach? In many states, you can go solar for less than $10,000. Here's a look\n",
    "at the average cost to go solar in each state.\n",
    "'''\n",
    "\n",
    "scale = [[0.0, 'rgb(223,221,228)'], [0.2, 'rgb(199,199,201)'],\n",
    "         [0.4, 'rgb(169,170,201)'], [0.6, 'rgb(139,135,181)'],\n",
    "         [0.8, 'rgb(98,88,158)'], [1.0, 'rgb(63,20,122)']]\n",
    "\n",
    "def mapper():\n",
    "    data = [dict(type='choropleth',\n",
    "                 colorscale=scale,\n",
    "                 locations=df1['Abbr'],\n",
    "                 z=df1['Cost'],\n",
    "                 locationmode='USA-states',\n",
    "                 text=df1['Abbr'],\n",
    "                 hoverinfo='location+z',\n",
    "                 marker=dict(line=dict(color='rgb(63,20,122)', width=2)),\n",
    "                 colorbar=dict(title='\"Solar Cost by State\" '))]\n",
    "    \n",
    "    layout = dict(title='\"Solar Installation Cost by State\" ' + '<br> Hover for value',\n",
    "                  geo=dict(scope='USA',\n",
    "                           projection=dict(type='albers usa'), showlakes=False, \n",
    "                                                               lakecolor='rgb(95,145,237)'))\n",
    "    \n",
    "    fig = dict(data=data, layout=layout)\n",
    "    return py.iplot(fig, validate=False, filename='Solar_cost_by_state.xlsx')"
   ]
  },
  {
   "cell_type": "code",
   "execution_count": 96,
   "metadata": {},
   "outputs": [
    {
     "data": {
      "text/html": [
       "<iframe id=\"igraph\" scrolling=\"no\" style=\"border:none;\" seamless=\"seamless\" src=\"https://plot.ly/~slakka/10.embed\" height=\"525px\" width=\"100%\"></iframe>"
      ],
      "text/plain": [
       "<plotly.tools.PlotlyDisplay object>"
      ]
     },
     "execution_count": 96,
     "metadata": {},
     "output_type": "execute_result"
    }
   ],
   "source": [
    "mapper()\n"
   ]
  },
  {
   "cell_type": "code",
   "execution_count": 97,
   "metadata": {},
   "outputs": [
    {
     "data": {
      "text/html": [
       "<div>\n",
       "<style scoped>\n",
       "    .dataframe tbody tr th:only-of-type {\n",
       "        vertical-align: middle;\n",
       "    }\n",
       "\n",
       "    .dataframe tbody tr th {\n",
       "        vertical-align: top;\n",
       "    }\n",
       "\n",
       "    .dataframe thead th {\n",
       "        text-align: right;\n",
       "    }\n",
       "</style>\n",
       "<table border=\"1\" class=\"dataframe\">\n",
       "  <thead>\n",
       "    <tr style=\"text-align: right;\">\n",
       "      <th></th>\n",
       "      <th>Abbr</th>\n",
       "      <th>Tax Credit</th>\n",
       "    </tr>\n",
       "  </thead>\n",
       "  <tbody>\n",
       "    <tr>\n",
       "      <th>0</th>\n",
       "      <td>AK</td>\n",
       "      <td>1000</td>\n",
       "    </tr>\n",
       "    <tr>\n",
       "      <th>1</th>\n",
       "      <td>AL</td>\n",
       "      <td>0</td>\n",
       "    </tr>\n",
       "    <tr>\n",
       "      <th>2</th>\n",
       "      <td>AR</td>\n",
       "      <td>1000</td>\n",
       "    </tr>\n",
       "    <tr>\n",
       "      <th>3</th>\n",
       "      <td>AZ</td>\n",
       "      <td>0</td>\n",
       "    </tr>\n",
       "    <tr>\n",
       "      <th>4</th>\n",
       "      <td>CA</td>\n",
       "      <td>0</td>\n",
       "    </tr>\n",
       "  </tbody>\n",
       "</table>\n",
       "</div>"
      ],
      "text/plain": [
       "  Abbr  Tax Credit\n",
       "0   AK        1000\n",
       "1   AL           0\n",
       "2   AR        1000\n",
       "3   AZ           0\n",
       "4   CA           0"
      ]
     },
     "execution_count": 97,
     "metadata": {},
     "output_type": "execute_result"
    }
   ],
   "source": [
    "df3 = ((pd.read_excel('Solar_cost_by_state.xlsx', sheetname=\"Solar\", usecols=(1,5))).fillna(0))\n",
    "\n",
    "df3.head()"
   ]
  },
  {
   "cell_type": "code",
   "execution_count": 98,
   "metadata": {},
   "outputs": [],
   "source": [
    "'''\n",
    "   Map showing how long it'll take to pay for itself\n",
    "'''\n",
    "\n",
    "'''\n",
    "High cost equals long payback time.A state with good incentives can mean a low net cost, but if \n",
    "electricity is cheap in that state(like Arizona or Lousiana), the payback period can still be pretty long.\n",
    "Conversely, a system may cost more in a given state, but if electricity prices there are high, the payback\n",
    "period may actually be pretty short.\n",
    "'''\n",
    "\n",
    "scale = [[0.0, 'rgb(237,219,203)'], [0.2, 'rgb(219,177,138)'],\n",
    "         [0.4, 'rgb(239,191,146)'], [0.6, 'rgb(244,187,134)'],\n",
    "         [0.8, 'rgb(244,167,95)'], [1.0, 'rgb(249,162,79)']]\n",
    "\n",
    "def mapper():\n",
    "    data = [dict(type='choropleth',\n",
    "                 colorscale=scale,\n",
    "                 locations=df3['Abbr'],\n",
    "                 z=df3['Tax Credit'],\n",
    "                 locationmode='USA-states',\n",
    "                 text=df3['Abbr'],\n",
    "                 hoverinfo='location+z',\n",
    "                 marker=dict(line=dict(color='rgb(237,118,7)', width=2)),\n",
    "                 colorbar=dict(title='\"Solar Tax Credit by State\" '))]\n",
    "    \n",
    "    layout = dict(title='\"Solar Tax Credit by State\" ' + '<br> Hover for value',\n",
    "                  geo=dict(scope='USA',\n",
    "                           projection=dict(type='albers usa'), showlakes=False, \n",
    "                                                               lakecolor='rgb(95,145,237)'))\n",
    "    \n",
    "    fig = dict(data=data, layout=layout)\n",
    "    return py.iplot(fig, validate=False, filename='Solar_cost_by_state.xlsx')"
   ]
  },
  {
   "cell_type": "code",
   "execution_count": 99,
   "metadata": {},
   "outputs": [
    {
     "data": {
      "text/html": [
       "<iframe id=\"igraph\" scrolling=\"no\" style=\"border:none;\" seamless=\"seamless\" src=\"https://plot.ly/~slakka/10.embed\" height=\"525px\" width=\"100%\"></iframe>"
      ],
      "text/plain": [
       "<plotly.tools.PlotlyDisplay object>"
      ]
     },
     "execution_count": 99,
     "metadata": {},
     "output_type": "execute_result"
    }
   ],
   "source": [
    "mapper()\n"
   ]
  },
  {
   "cell_type": "code",
   "execution_count": 100,
   "metadata": {},
   "outputs": [
    {
     "data": {
      "text/html": [
       "<div>\n",
       "<style scoped>\n",
       "    .dataframe tbody tr th:only-of-type {\n",
       "        vertical-align: middle;\n",
       "    }\n",
       "\n",
       "    .dataframe tbody tr th {\n",
       "        vertical-align: top;\n",
       "    }\n",
       "\n",
       "    .dataframe thead th {\n",
       "        text-align: right;\n",
       "    }\n",
       "</style>\n",
       "<table border=\"1\" class=\"dataframe\">\n",
       "  <thead>\n",
       "    <tr style=\"text-align: right;\">\n",
       "      <th></th>\n",
       "      <th>Abbr</th>\n",
       "      <th>Savings every month</th>\n",
       "    </tr>\n",
       "  </thead>\n",
       "  <tbody>\n",
       "    <tr>\n",
       "      <th>0</th>\n",
       "      <td>AK</td>\n",
       "      <td>59</td>\n",
       "    </tr>\n",
       "    <tr>\n",
       "      <th>1</th>\n",
       "      <td>AL</td>\n",
       "      <td>59</td>\n",
       "    </tr>\n",
       "    <tr>\n",
       "      <th>2</th>\n",
       "      <td>AR</td>\n",
       "      <td>59</td>\n",
       "    </tr>\n",
       "    <tr>\n",
       "      <th>3</th>\n",
       "      <td>AZ</td>\n",
       "      <td>137</td>\n",
       "    </tr>\n",
       "    <tr>\n",
       "      <th>4</th>\n",
       "      <td>CA</td>\n",
       "      <td>143</td>\n",
       "    </tr>\n",
       "  </tbody>\n",
       "</table>\n",
       "</div>"
      ],
      "text/plain": [
       "  Abbr  Savings every month\n",
       "0   AK                   59\n",
       "1   AL                   59\n",
       "2   AR                   59\n",
       "3   AZ                  137\n",
       "4   CA                  143"
      ]
     },
     "execution_count": 100,
     "metadata": {},
     "output_type": "execute_result"
    }
   ],
   "source": [
    "df4 = ((pd.read_excel('Solar_cost_by_state.xlsx', sheetname=\"Solar\", usecols=(1,6))).fillna(0))\n",
    "\n",
    "df4.head()"
   ]
  },
  {
   "cell_type": "code",
   "execution_count": 101,
   "metadata": {},
   "outputs": [],
   "source": [
    "'''\n",
    "   Map showing what you could save every month \n",
    "'''\n",
    "\n",
    "'''\n",
    "By going solar, people around the country are saving momey each month that would have gone to utility\n",
    "companies. Just how much are they saving? In some places, over $100 each month.\n",
    "'''\n",
    "\n",
    "scale = [[0.0, 'rgb(229, 239, 222)'], [0.2, 'rgb(200, 232, 178)'],\n",
    "         [0.4, 'rgb(178, 234, 140)'], [0.6, 'rgb(168, 234, 124)'],\n",
    "         [0.8, 'rgb(150, 244, 88)'], [1.0, 'rgb(72, 137, 28)']]\n",
    "\n",
    "def mapper():\n",
    "    data = [dict(type='choropleth',\n",
    "                 colorscale=scale,\n",
    "                 locations=df4['Abbr'],\n",
    "                 z=df4['Savings every month'],\n",
    "                 locationmode='USA-states',\n",
    "                 text=df4['Abbr'],                 hoverinfo='location+z',\n",
    "                 marker=dict(line=dict(color='rgb(34, 66, 13)', width=2)),\n",
    "                 colorbar=dict(title='\"Monthly $ savings by state\" '))]\n",
    "    \n",
    "    layout = dict(title='\"Savings Every Month by State\" ' + '<br> Hover for value',\n",
    "                  geo=dict(scope='USA',\n",
    "                           projection=dict(type='albers usa'), showlakes=False, \n",
    "                                                               lakecolor='rgb(95,145,237)'))\n",
    "    \n",
    "    fig = dict(data=data, layout=layout)\n",
    "    return py.iplot(fig, validate=False, filename='Solar_cost_by_state.xlsx')"
   ]
  },
  {
   "cell_type": "code",
   "execution_count": 102,
   "metadata": {},
   "outputs": [
    {
     "data": {
      "text/html": [
       "<iframe id=\"igraph\" scrolling=\"no\" style=\"border:none;\" seamless=\"seamless\" src=\"https://plot.ly/~slakka/10.embed\" height=\"525px\" width=\"100%\"></iframe>"
      ],
      "text/plain": [
       "<plotly.tools.PlotlyDisplay object>"
      ]
     },
     "execution_count": 102,
     "metadata": {},
     "output_type": "execute_result"
    }
   ],
   "source": [
    "mapper()"
   ]
  },
  {
   "cell_type": "code",
   "execution_count": 103,
   "metadata": {},
   "outputs": [
    {
     "data": {
      "text/html": [
       "<div>\n",
       "<style scoped>\n",
       "    .dataframe tbody tr th:only-of-type {\n",
       "        vertical-align: middle;\n",
       "    }\n",
       "\n",
       "    .dataframe tbody tr th {\n",
       "        vertical-align: top;\n",
       "    }\n",
       "\n",
       "    .dataframe thead th {\n",
       "        text-align: right;\n",
       "    }\n",
       "</style>\n",
       "<table border=\"1\" class=\"dataframe\">\n",
       "  <thead>\n",
       "    <tr style=\"text-align: right;\">\n",
       "      <th></th>\n",
       "      <th>Abbr</th>\n",
       "      <th>Savings over 20 years</th>\n",
       "    </tr>\n",
       "  </thead>\n",
       "  <tbody>\n",
       "    <tr>\n",
       "      <th>0</th>\n",
       "      <td>AK</td>\n",
       "      <td>15521</td>\n",
       "    </tr>\n",
       "    <tr>\n",
       "      <th>1</th>\n",
       "      <td>AL</td>\n",
       "      <td>18076</td>\n",
       "    </tr>\n",
       "    <tr>\n",
       "      <th>2</th>\n",
       "      <td>AR</td>\n",
       "      <td>14076</td>\n",
       "    </tr>\n",
       "    <tr>\n",
       "      <th>3</th>\n",
       "      <td>AZ</td>\n",
       "      <td>32979</td>\n",
       "    </tr>\n",
       "    <tr>\n",
       "      <th>4</th>\n",
       "      <td>CA</td>\n",
       "      <td>34260</td>\n",
       "    </tr>\n",
       "  </tbody>\n",
       "</table>\n",
       "</div>"
      ],
      "text/plain": [
       "  Abbr  Savings over 20 years\n",
       "0   AK                  15521\n",
       "1   AL                  18076\n",
       "2   AR                  14076\n",
       "3   AZ                  32979\n",
       "4   CA                  34260"
      ]
     },
     "execution_count": 103,
     "metadata": {},
     "output_type": "execute_result"
    }
   ],
   "source": [
    "df5 = ((pd.read_excel('Solar_cost_by_state.xlsx', sheetname=\"Solar\", usecols=(1,7))).fillna(0))\n",
    "\n",
    "df5.head()"
   ]
  },
  {
   "cell_type": "code",
   "execution_count": 104,
   "metadata": {},
   "outputs": [],
   "source": [
    "'''\n",
    "   Map showing what you could save every month \n",
    "'''\n",
    "\n",
    "'''\n",
    "By going solar, people around the country are saving momey each month that would have gone to utility\n",
    "companies. Just how much are they saving? In some places, over $100 each month.\n",
    "'''\n",
    "\n",
    "scale = [[0.0, 'rgb(242, 220, 244)'], [0.2, 'rgb(241, 200, 244)'],\n",
    "         [0.4, 'rgb(226, 169, 232)'], [0.6, 'rgb(215, 141, 221)'],\n",
    "         [0.8, 'rgb(231, 109, 242)'], [1.0, 'rgb(100, 26, 107)']]\n",
    "\n",
    "def mapper():\n",
    "    data = [dict(type='choropleth',\n",
    "                 colorscale=scale,\n",
    "                 locations=df5['Abbr'],\n",
    "                 z=df5['Savings over 20 years'],\n",
    "                 locationmode='USA-states',\n",
    "                 text=df5['Abbr'],\n",
    "                 hoverinfo='location+z',\n",
    "                 marker=dict(line=dict(color='rgb(34, 66, 13)', width=2)),\n",
    "                 colorbar=dict(title='\" $ Savings over 20 years by state\" '))]\n",
    "    \n",
    "    layout = dict(title='\"Savings Over 20 Years by State\" ' + '<br> Hover for value',\n",
    "                  geo=dict(scope='USA',\n",
    "                           projection=dict(type='albers usa'), showlakes=False, \n",
    "                                                               lakecolor='rgb(95,145,237)'))\n",
    "    \n",
    "    fig = dict(data=data, layout=layout)\n",
    "    return py.iplot(fig, validate=False, filename='Solar_cost_by_state.xlsx')"
   ]
  },
  {
   "cell_type": "code",
   "execution_count": 105,
   "metadata": {},
   "outputs": [
    {
     "data": {
      "text/html": [
       "<iframe id=\"igraph\" scrolling=\"no\" style=\"border:none;\" seamless=\"seamless\" src=\"https://plot.ly/~slakka/10.embed\" height=\"525px\" width=\"100%\"></iframe>"
      ],
      "text/plain": [
       "<plotly.tools.PlotlyDisplay object>"
      ]
     },
     "execution_count": 105,
     "metadata": {},
     "output_type": "execute_result"
    }
   ],
   "source": [
    "mapper()"
   ]
  },
  {
   "cell_type": "code",
   "execution_count": 106,
   "metadata": {},
   "outputs": [
    {
     "data": {
      "text/html": [
       "<div>\n",
       "<style scoped>\n",
       "    .dataframe tbody tr th:only-of-type {\n",
       "        vertical-align: middle;\n",
       "    }\n",
       "\n",
       "    .dataframe tbody tr th {\n",
       "        vertical-align: top;\n",
       "    }\n",
       "\n",
       "    .dataframe thead th {\n",
       "        text-align: right;\n",
       "    }\n",
       "</style>\n",
       "<table border=\"1\" class=\"dataframe\">\n",
       "  <thead>\n",
       "    <tr style=\"text-align: right;\">\n",
       "      <th></th>\n",
       "      <th>Abbr</th>\n",
       "      <th>Time taken to pay off in years</th>\n",
       "    </tr>\n",
       "  </thead>\n",
       "  <tbody>\n",
       "    <tr>\n",
       "      <th>0</th>\n",
       "      <td>AK</td>\n",
       "      <td>17.0</td>\n",
       "    </tr>\n",
       "    <tr>\n",
       "      <th>1</th>\n",
       "      <td>AL</td>\n",
       "      <td>19.0</td>\n",
       "    </tr>\n",
       "    <tr>\n",
       "      <th>2</th>\n",
       "      <td>AR</td>\n",
       "      <td>0.0</td>\n",
       "    </tr>\n",
       "    <tr>\n",
       "      <th>3</th>\n",
       "      <td>AZ</td>\n",
       "      <td>10.0</td>\n",
       "    </tr>\n",
       "    <tr>\n",
       "      <th>4</th>\n",
       "      <td>CA</td>\n",
       "      <td>9.0</td>\n",
       "    </tr>\n",
       "  </tbody>\n",
       "</table>\n",
       "</div>"
      ],
      "text/plain": [
       "  Abbr  Time taken to pay off in years\n",
       "0   AK                            17.0\n",
       "1   AL                            19.0\n",
       "2   AR                             0.0\n",
       "3   AZ                            10.0\n",
       "4   CA                             9.0"
      ]
     },
     "execution_count": 106,
     "metadata": {},
     "output_type": "execute_result"
    }
   ],
   "source": [
    "df6 = ((pd.read_excel('Solar_cost_by_state.xlsx', sheetname=\"Solar\", usecols=(1,8))).fillna(0))\n",
    "\n",
    "df6.head()"
   ]
  },
  {
   "cell_type": "code",
   "execution_count": 107,
   "metadata": {},
   "outputs": [],
   "source": [
    "'''\n",
    "   Map showing How long it'll take to pay for itself\n",
    "'''\n",
    "scale = [[0.0, 'rgb(138, 191, 234)'], [0.2, 'rgb(106, 160, 204)'],\n",
    "         [0.4, 'rgb(87, 162, 224)'], [0.6, 'rgb(54, 154, 237)'],\n",
    "         [0.8, 'rgb(26, 106, 173)'], [1.0, 'rgb(19, 71, 114)']]\n",
    "\n",
    "def mapper():\n",
    "    data = [dict(type='choropleth',\n",
    "                 colorscale=scale,\n",
    "                 locations=df6['Abbr'],\n",
    "                 z=df6['Time taken to pay off in years'],\n",
    "                 locationmode='USA-states',\n",
    "                 text=df5['Abbr'],\n",
    "                 hoverinfo='location+z',\n",
    "                 marker=dict(line=dict(color='rgb(34, 66, 13)', width=2)),\n",
    "                 colorbar=dict(title='\" Time taken to pay off in years by state\" '))]\n",
    "    \n",
    "    layout = dict(title='\"Time Taken to Pay Off in Years by State\" ' + '<br> Hover for value',\n",
    "                  geo=dict(scope='USA',\n",
    "                           projection=dict(type='albers usa'), showlakes=False, \n",
    "                                                               lakecolor='rgb(19, 71, 114)'))\n",
    "    \n",
    "    fig = dict(data=data, layout=layout)\n",
    "    return py.iplot(fig, validate=False, filename='Solar_cost_by_state.xlsx')"
   ]
  },
  {
   "cell_type": "code",
   "execution_count": 108,
   "metadata": {},
   "outputs": [
    {
     "data": {
      "text/html": [
       "<iframe id=\"igraph\" scrolling=\"no\" style=\"border:none;\" seamless=\"seamless\" src=\"https://plot.ly/~slakka/10.embed\" height=\"525px\" width=\"100%\"></iframe>"
      ],
      "text/plain": [
       "<plotly.tools.PlotlyDisplay object>"
      ]
     },
     "execution_count": 108,
     "metadata": {},
     "output_type": "execute_result"
    }
   ],
   "source": [
    "mapper()"
   ]
  },
  {
   "cell_type": "code",
   "execution_count": 109,
   "metadata": {},
   "outputs": [
    {
     "data": {
      "text/html": [
       "<div>\n",
       "<style scoped>\n",
       "    .dataframe tbody tr th:only-of-type {\n",
       "        vertical-align: middle;\n",
       "    }\n",
       "\n",
       "    .dataframe tbody tr th {\n",
       "        vertical-align: top;\n",
       "    }\n",
       "\n",
       "    .dataframe thead th {\n",
       "        text-align: right;\n",
       "    }\n",
       "</style>\n",
       "<table border=\"1\" class=\"dataframe\">\n",
       "  <thead>\n",
       "    <tr style=\"text-align: right;\">\n",
       "      <th></th>\n",
       "      <th>Sectors</th>\n",
       "      <th>Electricity Price</th>\n",
       "    </tr>\n",
       "  </thead>\n",
       "  <tbody>\n",
       "    <tr>\n",
       "      <th>0</th>\n",
       "      <td>Residential</td>\n",
       "      <td>12.89¢</td>\n",
       "    </tr>\n",
       "    <tr>\n",
       "      <th>1</th>\n",
       "      <td>Commercial</td>\n",
       "      <td>10.44¢</td>\n",
       "    </tr>\n",
       "    <tr>\n",
       "      <th>2</th>\n",
       "      <td>Industrial</td>\n",
       "      <td>6.58¢</td>\n",
       "    </tr>\n",
       "    <tr>\n",
       "      <th>3</th>\n",
       "      <td>Transportation</td>\n",
       "      <td>9.53¢</td>\n",
       "    </tr>\n",
       "  </tbody>\n",
       "</table>\n",
       "</div>"
      ],
      "text/plain": [
       "           Sectors Electricity Price\n",
       "0      Residential            12.89¢\n",
       "1       Commercial            10.44¢\n",
       "2       Industrial             6.58¢\n",
       "3   Transportation             9.53¢"
      ]
     },
     "execution_count": 109,
     "metadata": {},
     "output_type": "execute_result"
    }
   ],
   "source": [
    "df7 = (pd.read_excel('Solar_cost_by_state.xlsx', sheetname=\"Sheet8\"))\n",
    "\n",
    "df7.head()"
   ]
  },
  {
   "cell_type": "code",
   "execution_count": 110,
   "metadata": {},
   "outputs": [
    {
     "data": {
      "text/html": [
       "<script type=\"text/javascript\">window.PlotlyConfig = {MathJaxConfig: 'local'};</script><script type=\"text/javascript\">if (window.MathJax) {MathJax.Hub.Config({SVG: {font: \"STIX-Web\"}});}</script><script>requirejs.config({paths: { 'plotly': ['https://cdn.plot.ly/plotly-latest.min']},});if(!window._Plotly) {require(['plotly'],function(plotly) {window._Plotly=plotly;});}</script>"
      ],
      "text/vnd.plotly.v1+html": [
       "<script type=\"text/javascript\">window.PlotlyConfig = {MathJaxConfig: 'local'};</script><script type=\"text/javascript\">if (window.MathJax) {MathJax.Hub.Config({SVG: {font: \"STIX-Web\"}});}</script><script>requirejs.config({paths: { 'plotly': ['https://cdn.plot.ly/plotly-latest.min']},});if(!window._Plotly) {require(['plotly'],function(plotly) {window._Plotly=plotly;});}</script>"
      ]
     },
     "metadata": {},
     "output_type": "display_data"
    }
   ],
   "source": [
    "import plotly.figure_factory as ff#visualization\n",
    "import plotly.offline as py#visualization\n",
    "py.init_notebook_mode(connected=True)#visualization"
   ]
  },
  {
   "cell_type": "code",
   "execution_count": 111,
   "metadata": {},
   "outputs": [
    {
     "data": {
      "text/plain": [
       "Sectors              object\n",
       "Electricity Price    object\n",
       "dtype: object"
      ]
     },
     "execution_count": 111,
     "metadata": {},
     "output_type": "execute_result"
    }
   ],
   "source": [
    "df7.dtypes"
   ]
  },
  {
   "cell_type": "code",
   "execution_count": 112,
   "metadata": {},
   "outputs": [],
   "source": [
    "df7['Electricity Price']=pd.to_numeric(df7['Electricity Price'], errors=\"coerce\").fillna(0).astype(int)"
   ]
  },
  {
   "cell_type": "code",
   "execution_count": 113,
   "metadata": {},
   "outputs": [
    {
     "data": {
      "text/plain": [
       "Sectors              object\n",
       "Electricity Price     int32\n",
       "dtype: object"
      ]
     },
     "execution_count": 113,
     "metadata": {},
     "output_type": "execute_result"
    }
   ],
   "source": [
    "df7.dtypes"
   ]
  },
  {
   "cell_type": "code",
   "execution_count": 114,
   "metadata": {},
   "outputs": [],
   "source": [
    "dfnew = pd.read_excel(\"Solar_average.xlsx\")"
   ]
  },
  {
   "cell_type": "code",
   "execution_count": 115,
   "metadata": {},
   "outputs": [
    {
     "data": {
      "text/html": [
       "<div>\n",
       "<style scoped>\n",
       "    .dataframe tbody tr th:only-of-type {\n",
       "        vertical-align: middle;\n",
       "    }\n",
       "\n",
       "    .dataframe tbody tr th {\n",
       "        vertical-align: top;\n",
       "    }\n",
       "\n",
       "    .dataframe thead th {\n",
       "        text-align: right;\n",
       "    }\n",
       "</style>\n",
       "<table border=\"1\" class=\"dataframe\">\n",
       "  <thead>\n",
       "    <tr style=\"text-align: right;\">\n",
       "      <th></th>\n",
       "      <th>Year</th>\n",
       "      <th>State</th>\n",
       "      <th>Industry Sector Category</th>\n",
       "      <th>Residential</th>\n",
       "      <th>Commercial</th>\n",
       "      <th>Industrial</th>\n",
       "      <th>Transportation</th>\n",
       "      <th>Other</th>\n",
       "      <th>Total</th>\n",
       "    </tr>\n",
       "  </thead>\n",
       "  <tbody>\n",
       "    <tr>\n",
       "      <th>0</th>\n",
       "      <td>2017</td>\n",
       "      <td>AK</td>\n",
       "      <td>Total Electric Industry</td>\n",
       "      <td>21.27</td>\n",
       "      <td>18.89</td>\n",
       "      <td>16.34</td>\n",
       "      <td>0.00</td>\n",
       "      <td>NaN</td>\n",
       "      <td>19.10</td>\n",
       "    </tr>\n",
       "    <tr>\n",
       "      <th>1</th>\n",
       "      <td>2017</td>\n",
       "      <td>AL</td>\n",
       "      <td>Total Electric Industry</td>\n",
       "      <td>12.55</td>\n",
       "      <td>11.60</td>\n",
       "      <td>6.16</td>\n",
       "      <td>0.00</td>\n",
       "      <td>NaN</td>\n",
       "      <td>9.83</td>\n",
       "    </tr>\n",
       "    <tr>\n",
       "      <th>2</th>\n",
       "      <td>2017</td>\n",
       "      <td>AR</td>\n",
       "      <td>Total Electric Industry</td>\n",
       "      <td>10.28</td>\n",
       "      <td>8.51</td>\n",
       "      <td>6.07</td>\n",
       "      <td>12.26</td>\n",
       "      <td>NaN</td>\n",
       "      <td>8.26</td>\n",
       "    </tr>\n",
       "    <tr>\n",
       "      <th>3</th>\n",
       "      <td>2017</td>\n",
       "      <td>AZ</td>\n",
       "      <td>Total Electric Industry</td>\n",
       "      <td>12.44</td>\n",
       "      <td>10.50</td>\n",
       "      <td>6.45</td>\n",
       "      <td>9.65</td>\n",
       "      <td>NaN</td>\n",
       "      <td>10.64</td>\n",
       "    </tr>\n",
       "    <tr>\n",
       "      <th>4</th>\n",
       "      <td>2017</td>\n",
       "      <td>CA</td>\n",
       "      <td>Total Electric Industry</td>\n",
       "      <td>18.31</td>\n",
       "      <td>15.76</td>\n",
       "      <td>12.73</td>\n",
       "      <td>8.68</td>\n",
       "      <td>NaN</td>\n",
       "      <td>16.06</td>\n",
       "    </tr>\n",
       "  </tbody>\n",
       "</table>\n",
       "</div>"
      ],
      "text/plain": [
       "   Year State Industry Sector Category  Residential  Commercial  Industrial  \\\n",
       "0  2017    AK  Total Electric Industry        21.27       18.89       16.34   \n",
       "1  2017    AL  Total Electric Industry        12.55       11.60        6.16   \n",
       "2  2017    AR  Total Electric Industry        10.28        8.51        6.07   \n",
       "3  2017    AZ  Total Electric Industry        12.44       10.50        6.45   \n",
       "4  2017    CA  Total Electric Industry        18.31       15.76       12.73   \n",
       "\n",
       "   Transportation  Other  Total  \n",
       "0            0.00    NaN  19.10  \n",
       "1            0.00    NaN   9.83  \n",
       "2           12.26    NaN   8.26  \n",
       "3            9.65    NaN  10.64  \n",
       "4            8.68    NaN  16.06  "
      ]
     },
     "execution_count": 115,
     "metadata": {},
     "output_type": "execute_result"
    }
   ],
   "source": [
    "dfnew.head(5)"
   ]
  },
  {
   "cell_type": "code",
   "execution_count": 116,
   "metadata": {},
   "outputs": [
    {
     "data": {
      "text/plain": [
       "Year                          int64\n",
       "State                        object\n",
       "Industry Sector Category     object\n",
       "Residential                 float64\n",
       "Commercial                  float64\n",
       "Industrial                  float64\n",
       "Transportation              float64\n",
       "Other                       float64\n",
       "Total                       float64\n",
       "dtype: object"
      ]
     },
     "execution_count": 116,
     "metadata": {},
     "output_type": "execute_result"
    }
   ],
   "source": [
    "dfnew.dtypes"
   ]
  },
  {
   "cell_type": "code",
   "execution_count": 117,
   "metadata": {},
   "outputs": [
    {
     "data": {
      "application/vnd.plotly.v1+json": {
       "config": {
        "linkText": "Export to plot.ly",
        "plotlyServerURL": "https://plot.ly",
        "showLink": false
       },
       "data": [
        {
         "marker": {
          "color": [
           21.27,
           14.22,
           13.39,
           13.35,
           13.05,
           12.25,
           12.02,
           11.63,
           10.89,
           10.81,
           10.57,
           9.79
          ],
          "colorscale": "Jet",
          "showscale": true,
          "size": 30,
          "sizemode": "diameter",
          "sizeref": 1
         },
         "mode": "markers",
         "type": "scatter",
         "uid": "3c38240a-8761-4325-957f-405d4f48ac9c",
         "x": [
          "HI",
          "AK",
          "NY",
          "VT",
          "CT",
          "MA",
          "CA",
          "ME",
          "NJ",
          "NH",
          "RI",
          "WI"
         ],
         "y": [
          21.27,
          14.22,
          13.39,
          13.35,
          13.05,
          12.25,
          12.02,
          11.63,
          10.89,
          10.81,
          10.57,
          9.79
         ]
        }
       ],
       "layout": {
        "title": {
         "text": "Top 12 States by Residential Cost "
        },
        "xaxis": {
         "tickangle": -20
        },
        "yaxis": {
         "title": {
          "text": "cost"
         }
        }
       }
      },
      "text/html": [
       "<div id=\"f7f5ef76-251b-46d1-a722-a4e3091f8cc8\" style=\"height: 525px; width: 100%;\" class=\"plotly-graph-div\"></div><script type=\"text/javascript\">require([\"plotly\"], function(Plotly) { window.PLOTLYENV=window.PLOTLYENV || {};window.PLOTLYENV.BASE_URL=\"https://plot.ly\";\n",
       "if (document.getElementById(\"f7f5ef76-251b-46d1-a722-a4e3091f8cc8\")) {\n",
       "    Plotly.newPlot(\"f7f5ef76-251b-46d1-a722-a4e3091f8cc8\", [{\"uid\": \"3c38240a-8761-4325-957f-405d4f48ac9c\", \"marker\": {\"sizeref\": 1, \"colorscale\": \"Jet\", \"color\": [21.27, 14.22, 13.39, 13.35, 13.05, 12.25, 12.02, 11.63, 10.89, 10.81, 10.57, 9.79], \"sizemode\": \"diameter\", \"showscale\": true, \"size\": 30}, \"mode\": \"markers\", \"y\": [21.27, 14.22, 13.39, 13.35, 13.05, 12.25, 12.02, 11.63, 10.89, 10.81, 10.57, 9.79], \"x\": [\"HI\", \"AK\", \"NY\", \"VT\", \"CT\", \"MA\", \"CA\", \"ME\", \"NJ\", \"NH\", \"RI\", \"WI\"], \"type\": \"scatter\"}], {\"title\": {\"text\": \"Top 12 States by Residential Cost \"}, \"xaxis\": {\"tickangle\": -20}, \"yaxis\": {\"title\": {\"text\": \"cost\"}}}, {\"plotlyServerURL\": \"https://plot.ly\", \"linkText\": \"Export to plot.ly\", \"showLink\": false}); \n",
       "}\n",
       "});</script><script type=\"text/javascript\">window.addEventListener(\"resize\", function(){if (document.getElementById(\"f7f5ef76-251b-46d1-a722-a4e3091f8cc8\")) {window._Plotly.Plots.resize(document.getElementById(\"f7f5ef76-251b-46d1-a722-a4e3091f8cc8\"));};})</script>"
      ],
      "text/vnd.plotly.v1+html": [
       "<div id=\"f7f5ef76-251b-46d1-a722-a4e3091f8cc8\" style=\"height: 525px; width: 100%;\" class=\"plotly-graph-div\"></div><script type=\"text/javascript\">require([\"plotly\"], function(Plotly) { window.PLOTLYENV=window.PLOTLYENV || {};window.PLOTLYENV.BASE_URL=\"https://plot.ly\";\n",
       "if (document.getElementById(\"f7f5ef76-251b-46d1-a722-a4e3091f8cc8\")) {\n",
       "    Plotly.newPlot(\"f7f5ef76-251b-46d1-a722-a4e3091f8cc8\", [{\"uid\": \"3c38240a-8761-4325-957f-405d4f48ac9c\", \"marker\": {\"sizeref\": 1, \"colorscale\": \"Jet\", \"color\": [21.27, 14.22, 13.39, 13.35, 13.05, 12.25, 12.02, 11.63, 10.89, 10.81, 10.57, 9.79], \"sizemode\": \"diameter\", \"showscale\": true, \"size\": 30}, \"mode\": \"markers\", \"y\": [21.27, 14.22, 13.39, 13.35, 13.05, 12.25, 12.02, 11.63, 10.89, 10.81, 10.57, 9.79], \"x\": [\"HI\", \"AK\", \"NY\", \"VT\", \"CT\", \"MA\", \"CA\", \"ME\", \"NJ\", \"NH\", \"RI\", \"WI\"], \"type\": \"scatter\"}], {\"title\": {\"text\": \"Top 12 States by Residential Cost \"}, \"xaxis\": {\"tickangle\": -20}, \"yaxis\": {\"title\": {\"text\": \"cost\"}}}, {\"plotlyServerURL\": \"https://plot.ly\", \"linkText\": \"Export to plot.ly\", \"showLink\": false}); \n",
       "}\n",
       "});</script><script type=\"text/javascript\">window.addEventListener(\"resize\", function(){if (document.getElementById(\"f7f5ef76-251b-46d1-a722-a4e3091f8cc8\")) {window._Plotly.Plots.resize(document.getElementById(\"f7f5ef76-251b-46d1-a722-a4e3091f8cc8\"));};})</script>"
      ]
     },
     "metadata": {},
     "output_type": "display_data"
    }
   ],
   "source": [
    "dff = dfnew.groupby('State').Residential.mean().to_frame().sort_values(by='Residential',\n",
    "                                                    ascending=False)[:12].round(2)\n",
    "\n",
    "trace = go.Scatter(\n",
    "    x=dff.index,\n",
    "    y=dff.Residential,\n",
    "    mode='markers',\n",
    "    marker=dict(\n",
    "        sizemode = 'diameter',\n",
    "        sizeref = 1,\n",
    "        size = 30,\n",
    "        color = dff.Residential.values,\n",
    "        colorscale='Jet',\n",
    "        showscale=True\n",
    "    )\n",
    ")\n",
    "\n",
    "data = [trace]\n",
    "layout = go.Layout(xaxis=dict(tickangle=-20),\n",
    "    title='Top 12 States by Residential Cost ', \n",
    "                   yaxis = dict(title = 'cost')\n",
    ")\n",
    "\n",
    "fig = go.Figure(data=data, layout=layout)\n",
    "py.iplot(fig)"
   ]
  },
  {
   "cell_type": "code",
   "execution_count": 118,
   "metadata": {},
   "outputs": [],
   "source": [
    "df_w = pd.read_excel(\"weather.xlsx\")"
   ]
  },
  {
   "cell_type": "code",
   "execution_count": 119,
   "metadata": {},
   "outputs": [
    {
     "data": {
      "text/html": [
       "<div>\n",
       "<style scoped>\n",
       "    .dataframe tbody tr th:only-of-type {\n",
       "        vertical-align: middle;\n",
       "    }\n",
       "\n",
       "    .dataframe tbody tr th {\n",
       "        vertical-align: top;\n",
       "    }\n",
       "\n",
       "    .dataframe thead th {\n",
       "        text-align: right;\n",
       "    }\n",
       "</style>\n",
       "<table border=\"1\" class=\"dataframe\">\n",
       "  <thead>\n",
       "    <tr style=\"text-align: right;\">\n",
       "      <th></th>\n",
       "      <th>State</th>\n",
       "      <th>Place</th>\n",
       "      <th>SunPercent</th>\n",
       "      <th>Total Hours</th>\n",
       "      <th>Clear Days</th>\n",
       "    </tr>\n",
       "  </thead>\n",
       "  <tbody>\n",
       "    <tr>\n",
       "      <th>0</th>\n",
       "      <td>Alabama</td>\n",
       "      <td>Birmingham</td>\n",
       "      <td>58</td>\n",
       "      <td>2641</td>\n",
       "      <td>99</td>\n",
       "    </tr>\n",
       "    <tr>\n",
       "      <th>1</th>\n",
       "      <td>Alaska</td>\n",
       "      <td>Anchorage</td>\n",
       "      <td>41</td>\n",
       "      <td>2061</td>\n",
       "      <td>61</td>\n",
       "    </tr>\n",
       "  </tbody>\n",
       "</table>\n",
       "</div>"
      ],
      "text/plain": [
       "     State       Place SunPercent Total Hours  Clear Days\n",
       "0  Alabama  Birmingham         58        2641          99\n",
       "1   Alaska   Anchorage         41        2061          61"
      ]
     },
     "execution_count": 119,
     "metadata": {},
     "output_type": "execute_result"
    }
   ],
   "source": [
    "df_w.head(2)"
   ]
  },
  {
   "cell_type": "code",
   "execution_count": 120,
   "metadata": {},
   "outputs": [
    {
     "data": {
      "text/plain": [
       "State          object\n",
       "Place          object\n",
       "SunPercent     object\n",
       "Total Hours    object\n",
       "Clear Days      int64\n",
       "dtype: object"
      ]
     },
     "execution_count": 120,
     "metadata": {},
     "output_type": "execute_result"
    }
   ],
   "source": [
    "df_w.dtypes"
   ]
  },
  {
   "cell_type": "code",
   "execution_count": 121,
   "metadata": {},
   "outputs": [],
   "source": [
    "df_w['SunPercent']=pd.to_numeric(df_w.SunPercent, errors=\"coerce\").fillna(0).astype(int)"
   ]
  },
  {
   "cell_type": "code",
   "execution_count": 122,
   "metadata": {},
   "outputs": [],
   "source": [
    "state_codes = {\n",
    "    'District of Columbia' : 'dc','Mississippi': 'MS', 'Oklahoma': 'OK', \n",
    "    'Delaware': 'DE', 'Minnesota': 'MN', 'Illinois': 'IL', 'Arkansas': 'AR', \n",
    "    'New Mexico': 'NM', 'Indiana': 'IN', 'Maryland': 'MD', 'Louisiana': 'LA', \n",
    "    'Idaho': 'ID', 'Wyoming': 'WY', 'Tennessee': 'TN', 'Arizona': 'AZ', \n",
    "    'Iowa': 'IA', 'Michigan': 'MI', 'Kansas': 'KS', 'Utah': 'UT', \n",
    "    'Virginia': 'VA', 'Oregon': 'OR', 'Connecticut': 'CT', 'Montana': 'MT', \n",
    "    'California': 'CA', 'Massachusetts': 'MA', 'West Virginia': 'WV', \n",
    "    'South Carolina': 'SC', 'New Hampshire': 'NH', 'Wisconsin': 'WI',\n",
    "    'Vermont': 'VT', 'Georgia': 'GA', 'North Dakota': 'ND', \n",
    "    'Pennsylvania': 'PA', 'Florida': 'FL', 'Alaska': 'AK', 'Kentucky': 'KY', \n",
    "    'Hawaii': 'HI', 'Nebraska': 'NE', 'Missouri': 'MO', 'Ohio': 'OH', \n",
    "    'Alabama': 'AL', 'Rhode Island': 'RI', 'South Dakota': 'SD', \n",
    "    'Colorado': 'CO', 'New Jersey': 'NJ', 'Washington': 'WA', \n",
    "    'North Carolina': 'NC', 'New York': 'NY', 'Texas': 'TX', \n",
    "    'Nevada': 'NV', 'Maine': 'ME'}\n",
    "\n",
    "df_w['State'] = df_w['State'].apply(lambda x : state_codes[x])"
   ]
  },
  {
   "cell_type": "code",
   "execution_count": 123,
   "metadata": {},
   "outputs": [
    {
     "data": {
      "application/vnd.plotly.v1+json": {
       "config": {
        "linkText": "Export to plot.ly",
        "plotlyServerURL": "https://plot.ly",
        "showLink": false
       },
       "data": [
        {
         "marker": {
          "color": "teal"
         },
         "name": "Sun Percentage",
         "type": "bar",
         "uid": "8819c78f-372b-4070-9bf4-34c136f4932e",
         "x": [
          "AZ",
          "NV",
          "NM",
          "HI",
          "CO",
          "WY",
          "OK",
          "CA",
          "UT",
          "GA",
          "FL",
          "KS"
         ],
         "y": [
          85,
          79,
          76,
          71,
          71,
          68,
          68,
          68,
          66,
          66,
          66,
          65
         ]
        }
       ],
       "layout": {
        "title": {
         "text": ""
        },
        "yaxis": {
         "title": {
          "text": "%SunLight"
         }
        }
       }
      },
      "text/html": [
       "<div id=\"b8febbdf-56aa-47f4-b998-abe8ac2f08d8\" style=\"height: 525px; width: 100%;\" class=\"plotly-graph-div\"></div><script type=\"text/javascript\">require([\"plotly\"], function(Plotly) { window.PLOTLYENV=window.PLOTLYENV || {};window.PLOTLYENV.BASE_URL=\"https://plot.ly\";\n",
       "if (document.getElementById(\"b8febbdf-56aa-47f4-b998-abe8ac2f08d8\")) {\n",
       "    Plotly.newPlot(\"b8febbdf-56aa-47f4-b998-abe8ac2f08d8\", [{\"uid\": \"8819c78f-372b-4070-9bf4-34c136f4932e\", \"marker\": {\"color\": \"teal\"}, \"y\": [85, 79, 76, 71, 71, 68, 68, 68, 66, 66, 66, 65], \"x\": [\"AZ\", \"NV\", \"NM\", \"HI\", \"CO\", \"WY\", \"OK\", \"CA\", \"UT\", \"GA\", \"FL\", \"KS\"], \"type\": \"bar\", \"name\": \"Sun Percentage\"}], {\"title\": {\"text\": \"\"}, \"yaxis\": {\"title\": {\"text\": \"%SunLight\"}}}, {\"plotlyServerURL\": \"https://plot.ly\", \"linkText\": \"Export to plot.ly\", \"showLink\": false}); \n",
       "}\n",
       "});</script><script type=\"text/javascript\">window.addEventListener(\"resize\", function(){if (document.getElementById(\"b8febbdf-56aa-47f4-b998-abe8ac2f08d8\")) {window._Plotly.Plots.resize(document.getElementById(\"b8febbdf-56aa-47f4-b998-abe8ac2f08d8\"));};})</script>"
      ],
      "text/vnd.plotly.v1+html": [
       "<div id=\"b8febbdf-56aa-47f4-b998-abe8ac2f08d8\" style=\"height: 525px; width: 100%;\" class=\"plotly-graph-div\"></div><script type=\"text/javascript\">require([\"plotly\"], function(Plotly) { window.PLOTLYENV=window.PLOTLYENV || {};window.PLOTLYENV.BASE_URL=\"https://plot.ly\";\n",
       "if (document.getElementById(\"b8febbdf-56aa-47f4-b998-abe8ac2f08d8\")) {\n",
       "    Plotly.newPlot(\"b8febbdf-56aa-47f4-b998-abe8ac2f08d8\", [{\"uid\": \"8819c78f-372b-4070-9bf4-34c136f4932e\", \"marker\": {\"color\": \"teal\"}, \"y\": [85, 79, 76, 71, 71, 68, 68, 68, 66, 66, 66, 65], \"x\": [\"AZ\", \"NV\", \"NM\", \"HI\", \"CO\", \"WY\", \"OK\", \"CA\", \"UT\", \"GA\", \"FL\", \"KS\"], \"type\": \"bar\", \"name\": \"Sun Percentage\"}], {\"title\": {\"text\": \"\"}, \"yaxis\": {\"title\": {\"text\": \"%SunLight\"}}}, {\"plotlyServerURL\": \"https://plot.ly\", \"linkText\": \"Export to plot.ly\", \"showLink\": false}); \n",
       "}\n",
       "});</script><script type=\"text/javascript\">window.addEventListener(\"resize\", function(){if (document.getElementById(\"b8febbdf-56aa-47f4-b998-abe8ac2f08d8\")) {window._Plotly.Plots.resize(document.getElementById(\"b8febbdf-56aa-47f4-b998-abe8ac2f08d8\"));};})</script>"
      ]
     },
     "metadata": {},
     "output_type": "display_data"
    }
   ],
   "source": [
    "dff = df_w.groupby('State').SunPercent.sum().to_frame().sort_values(by='SunPercent',\n",
    "                                                    ascending=False)[:12].round(2)\n",
    "trace1 = go.Bar(\n",
    "    x=dff.index,\n",
    "    y=dff.SunPercent,\n",
    "    name='Sun Percentage',\n",
    "    marker=dict(\n",
    "        color = 'teal'\n",
    "    )\n",
    ")\n",
    "\n",
    "data = [trace1]\n",
    "layout = go.Layout(\n",
    "    title='', \n",
    "    yaxis = dict(title = '%SunLight')\n",
    ")\n",
    "\n",
    "fig = go.Figure(data=data, layout=layout)\n",
    "py.iplot(fig)\n",
    "\n"
   ]
  },
  {
   "cell_type": "code",
   "execution_count": 124,
   "metadata": {},
   "outputs": [],
   "source": [
    "df_comb = pd.merge(dfnew, df_w, on='State')"
   ]
  },
  {
   "cell_type": "code",
   "execution_count": 125,
   "metadata": {},
   "outputs": [
    {
     "data": {
      "text/html": [
       "<div>\n",
       "<style scoped>\n",
       "    .dataframe tbody tr th:only-of-type {\n",
       "        vertical-align: middle;\n",
       "    }\n",
       "\n",
       "    .dataframe tbody tr th {\n",
       "        vertical-align: top;\n",
       "    }\n",
       "\n",
       "    .dataframe thead th {\n",
       "        text-align: right;\n",
       "    }\n",
       "</style>\n",
       "<table border=\"1\" class=\"dataframe\">\n",
       "  <thead>\n",
       "    <tr style=\"text-align: right;\">\n",
       "      <th></th>\n",
       "      <th>Year</th>\n",
       "      <th>State</th>\n",
       "      <th>Industry Sector Category</th>\n",
       "      <th>Residential</th>\n",
       "      <th>Commercial</th>\n",
       "      <th>Industrial</th>\n",
       "      <th>Transportation</th>\n",
       "      <th>Other</th>\n",
       "      <th>Total</th>\n",
       "      <th>Place</th>\n",
       "      <th>SunPercent</th>\n",
       "      <th>Total Hours</th>\n",
       "      <th>Clear Days</th>\n",
       "    </tr>\n",
       "  </thead>\n",
       "  <tbody>\n",
       "    <tr>\n",
       "      <th>0</th>\n",
       "      <td>2017</td>\n",
       "      <td>AK</td>\n",
       "      <td>Total Electric Industry</td>\n",
       "      <td>21.27</td>\n",
       "      <td>18.89</td>\n",
       "      <td>16.34</td>\n",
       "      <td>0.0</td>\n",
       "      <td>NaN</td>\n",
       "      <td>19.10</td>\n",
       "      <td>Anchorage</td>\n",
       "      <td>41</td>\n",
       "      <td>2061</td>\n",
       "      <td>61</td>\n",
       "    </tr>\n",
       "    <tr>\n",
       "      <th>1</th>\n",
       "      <td>2017</td>\n",
       "      <td>AK</td>\n",
       "      <td>Full-Service Providers</td>\n",
       "      <td>21.27</td>\n",
       "      <td>18.89</td>\n",
       "      <td>16.34</td>\n",
       "      <td>0.0</td>\n",
       "      <td>NaN</td>\n",
       "      <td>19.10</td>\n",
       "      <td>Anchorage</td>\n",
       "      <td>41</td>\n",
       "      <td>2061</td>\n",
       "      <td>61</td>\n",
       "    </tr>\n",
       "    <tr>\n",
       "      <th>2</th>\n",
       "      <td>2016</td>\n",
       "      <td>AK</td>\n",
       "      <td>Total Electric Industry</td>\n",
       "      <td>20.30</td>\n",
       "      <td>17.56</td>\n",
       "      <td>15.22</td>\n",
       "      <td>0.0</td>\n",
       "      <td>NaN</td>\n",
       "      <td>17.93</td>\n",
       "      <td>Anchorage</td>\n",
       "      <td>41</td>\n",
       "      <td>2061</td>\n",
       "      <td>61</td>\n",
       "    </tr>\n",
       "    <tr>\n",
       "      <th>3</th>\n",
       "      <td>2016</td>\n",
       "      <td>AK</td>\n",
       "      <td>Full-Service Providers</td>\n",
       "      <td>20.30</td>\n",
       "      <td>17.56</td>\n",
       "      <td>15.22</td>\n",
       "      <td>0.0</td>\n",
       "      <td>NaN</td>\n",
       "      <td>17.93</td>\n",
       "      <td>Anchorage</td>\n",
       "      <td>41</td>\n",
       "      <td>2061</td>\n",
       "      <td>61</td>\n",
       "    </tr>\n",
       "    <tr>\n",
       "      <th>4</th>\n",
       "      <td>2015</td>\n",
       "      <td>AK</td>\n",
       "      <td>Total Electric Industry</td>\n",
       "      <td>19.83</td>\n",
       "      <td>17.44</td>\n",
       "      <td>14.53</td>\n",
       "      <td>0.0</td>\n",
       "      <td>NaN</td>\n",
       "      <td>17.59</td>\n",
       "      <td>Anchorage</td>\n",
       "      <td>41</td>\n",
       "      <td>2061</td>\n",
       "      <td>61</td>\n",
       "    </tr>\n",
       "  </tbody>\n",
       "</table>\n",
       "</div>"
      ],
      "text/plain": [
       "   Year State Industry Sector Category  Residential  Commercial  Industrial  \\\n",
       "0  2017    AK  Total Electric Industry        21.27       18.89       16.34   \n",
       "1  2017    AK   Full-Service Providers        21.27       18.89       16.34   \n",
       "2  2016    AK  Total Electric Industry        20.30       17.56       15.22   \n",
       "3  2016    AK   Full-Service Providers        20.30       17.56       15.22   \n",
       "4  2015    AK  Total Electric Industry        19.83       17.44       14.53   \n",
       "\n",
       "   Transportation  Other  Total      Place  SunPercent Total Hours  Clear Days  \n",
       "0             0.0    NaN  19.10  Anchorage          41        2061          61  \n",
       "1             0.0    NaN  19.10  Anchorage          41        2061          61  \n",
       "2             0.0    NaN  17.93  Anchorage          41        2061          61  \n",
       "3             0.0    NaN  17.93  Anchorage          41        2061          61  \n",
       "4             0.0    NaN  17.59  Anchorage          41        2061          61  "
      ]
     },
     "execution_count": 125,
     "metadata": {},
     "output_type": "execute_result"
    }
   ],
   "source": [
    "df_comb.head()"
   ]
  },
  {
   "cell_type": "code",
   "execution_count": 126,
   "metadata": {},
   "outputs": [
    {
     "data": {
      "application/vnd.plotly.v1+json": {
       "config": {
        "linkText": "Export to plot.ly",
        "plotlyServerURL": "https://plot.ly",
        "showLink": false
       },
       "data": [
        {
         "marker": {
          "color": "navy"
         },
         "name": "Residential Cost",
         "type": "bar",
         "uid": "e232187c-38ac-460f-8649-7154e8b83e8e",
         "x": [
          "HI",
          "AK",
          "NY",
          "VT",
          "CT",
          "MA",
          "CA",
          "ME",
          "NJ",
          "NH",
          "RI",
          "WI"
         ],
         "y": [
          21.27,
          14.22,
          13.39,
          13.35,
          13.05,
          12.25,
          12.02,
          11.63,
          10.89,
          10.81,
          10.57,
          9.79
         ]
        },
        {
         "marker": {
          "color": "red"
         },
         "name": "Sun Percentage",
         "type": "bar",
         "uid": "774d8448-b5df-44ca-88fc-59c38b5ee855",
         "x": [
          "AZ",
          "NV",
          "NM",
          "HI",
          "CO",
          "WY",
          "OK",
          "CA",
          "UT",
          "GA",
          "FL",
          "KS"
         ],
         "y": [
          85,
          79,
          76,
          71,
          71,
          68,
          68,
          68,
          66,
          66,
          66,
          65
         ]
        }
       ],
       "layout": {
        "title": {
         "text": ""
        },
        "yaxis": {
         "title": {
          "text": "%"
         }
        }
       }
      },
      "text/html": [
       "<div id=\"10ea7baf-ed9e-4cec-b4b9-345b7f7feeba\" style=\"height: 525px; width: 100%;\" class=\"plotly-graph-div\"></div><script type=\"text/javascript\">require([\"plotly\"], function(Plotly) { window.PLOTLYENV=window.PLOTLYENV || {};window.PLOTLYENV.BASE_URL=\"https://plot.ly\";\n",
       "if (document.getElementById(\"10ea7baf-ed9e-4cec-b4b9-345b7f7feeba\")) {\n",
       "    Plotly.newPlot(\"10ea7baf-ed9e-4cec-b4b9-345b7f7feeba\", [{\"uid\": \"e232187c-38ac-460f-8649-7154e8b83e8e\", \"marker\": {\"color\": \"navy\"}, \"y\": [21.27, 14.22, 13.39, 13.35, 13.05, 12.25, 12.02, 11.63, 10.89, 10.81, 10.57, 9.79], \"x\": [\"HI\", \"AK\", \"NY\", \"VT\", \"CT\", \"MA\", \"CA\", \"ME\", \"NJ\", \"NH\", \"RI\", \"WI\"], \"type\": \"bar\", \"name\": \"Residential Cost\"}, {\"uid\": \"774d8448-b5df-44ca-88fc-59c38b5ee855\", \"marker\": {\"color\": \"red\"}, \"y\": [85, 79, 76, 71, 71, 68, 68, 68, 66, 66, 66, 65], \"x\": [\"AZ\", \"NV\", \"NM\", \"HI\", \"CO\", \"WY\", \"OK\", \"CA\", \"UT\", \"GA\", \"FL\", \"KS\"], \"type\": \"bar\", \"name\": \"Sun Percentage\"}], {\"title\": {\"text\": \"\"}, \"yaxis\": {\"title\": {\"text\": \"%\"}}}, {\"plotlyServerURL\": \"https://plot.ly\", \"linkText\": \"Export to plot.ly\", \"showLink\": false}); \n",
       "}\n",
       "});</script><script type=\"text/javascript\">window.addEventListener(\"resize\", function(){if (document.getElementById(\"10ea7baf-ed9e-4cec-b4b9-345b7f7feeba\")) {window._Plotly.Plots.resize(document.getElementById(\"10ea7baf-ed9e-4cec-b4b9-345b7f7feeba\"));};})</script>"
      ],
      "text/vnd.plotly.v1+html": [
       "<div id=\"10ea7baf-ed9e-4cec-b4b9-345b7f7feeba\" style=\"height: 525px; width: 100%;\" class=\"plotly-graph-div\"></div><script type=\"text/javascript\">require([\"plotly\"], function(Plotly) { window.PLOTLYENV=window.PLOTLYENV || {};window.PLOTLYENV.BASE_URL=\"https://plot.ly\";\n",
       "if (document.getElementById(\"10ea7baf-ed9e-4cec-b4b9-345b7f7feeba\")) {\n",
       "    Plotly.newPlot(\"10ea7baf-ed9e-4cec-b4b9-345b7f7feeba\", [{\"uid\": \"e232187c-38ac-460f-8649-7154e8b83e8e\", \"marker\": {\"color\": \"navy\"}, \"y\": [21.27, 14.22, 13.39, 13.35, 13.05, 12.25, 12.02, 11.63, 10.89, 10.81, 10.57, 9.79], \"x\": [\"HI\", \"AK\", \"NY\", \"VT\", \"CT\", \"MA\", \"CA\", \"ME\", \"NJ\", \"NH\", \"RI\", \"WI\"], \"type\": \"bar\", \"name\": \"Residential Cost\"}, {\"uid\": \"774d8448-b5df-44ca-88fc-59c38b5ee855\", \"marker\": {\"color\": \"red\"}, \"y\": [85, 79, 76, 71, 71, 68, 68, 68, 66, 66, 66, 65], \"x\": [\"AZ\", \"NV\", \"NM\", \"HI\", \"CO\", \"WY\", \"OK\", \"CA\", \"UT\", \"GA\", \"FL\", \"KS\"], \"type\": \"bar\", \"name\": \"Sun Percentage\"}], {\"title\": {\"text\": \"\"}, \"yaxis\": {\"title\": {\"text\": \"%\"}}}, {\"plotlyServerURL\": \"https://plot.ly\", \"linkText\": \"Export to plot.ly\", \"showLink\": false}); \n",
       "}\n",
       "});</script><script type=\"text/javascript\">window.addEventListener(\"resize\", function(){if (document.getElementById(\"10ea7baf-ed9e-4cec-b4b9-345b7f7feeba\")) {window._Plotly.Plots.resize(document.getElementById(\"10ea7baf-ed9e-4cec-b4b9-345b7f7feeba\"));};})</script>"
      ]
     },
     "metadata": {},
     "output_type": "display_data"
    }
   ],
   "source": [
    "dff = df_comb.groupby('State').Residential.mean().to_frame().sort_values(by='Residential',\n",
    "                                                    ascending=False)[:12].round(2)\n",
    "trace1 = go.Bar(\n",
    "    x=dff.index,\n",
    "    y=dff.Residential,\n",
    "    name='Residential Cost',\n",
    "    marker=dict(\n",
    "        color = 'navy'\n",
    "    )\n",
    ")\n",
    "\n",
    "dff = df_comb.groupby('State').SunPercent.mean().to_frame().sort_values(by='SunPercent',\n",
    "                                                    ascending=False)[:12].round(2)\n",
    "trace2 = go.Bar(\n",
    "    x=dff.index,\n",
    "    y=dff.SunPercent,\n",
    "    name='Sun Percentage',\n",
    "    marker=dict(\n",
    "        color = 'red'\n",
    "    )\n",
    ")\n",
    "\n",
    "\n",
    "data = [trace1,trace2]\n",
    "layout = go.Layout(\n",
    "    title='', \n",
    "    yaxis = dict(title = '%')\n",
    ")\n",
    "\n",
    "fig = go.Figure(data=data, layout=layout)\n",
    "py.iplot(fig)\n",
    "\n"
   ]
  },
  {
   "cell_type": "code",
   "execution_count": 127,
   "metadata": {},
   "outputs": [
    {
     "data": {
      "text/html": [
       "<div>\n",
       "<style scoped>\n",
       "    .dataframe tbody tr th:only-of-type {\n",
       "        vertical-align: middle;\n",
       "    }\n",
       "\n",
       "    .dataframe tbody tr th {\n",
       "        vertical-align: top;\n",
       "    }\n",
       "\n",
       "    .dataframe thead th {\n",
       "        text-align: right;\n",
       "    }\n",
       "</style>\n",
       "<table border=\"1\" class=\"dataframe\">\n",
       "  <thead>\n",
       "    <tr style=\"text-align: right;\">\n",
       "      <th></th>\n",
       "      <th>Incentive</th>\n",
       "    </tr>\n",
       "    <tr>\n",
       "      <th>State</th>\n",
       "      <th></th>\n",
       "    </tr>\n",
       "  </thead>\n",
       "  <tbody>\n",
       "    <tr>\n",
       "      <th>Hawaii</th>\n",
       "      <td>9.45</td>\n",
       "    </tr>\n",
       "    <tr>\n",
       "      <th>California</th>\n",
       "      <td>4.07</td>\n",
       "    </tr>\n",
       "    <tr>\n",
       "      <th>New Mexico</th>\n",
       "      <td>3.50</td>\n",
       "    </tr>\n",
       "    <tr>\n",
       "      <th>New Jersey</th>\n",
       "      <td>3.25</td>\n",
       "    </tr>\n",
       "    <tr>\n",
       "      <th>Connecticut</th>\n",
       "      <td>3.22</td>\n",
       "    </tr>\n",
       "  </tbody>\n",
       "</table>\n",
       "</div>"
      ],
      "text/plain": [
       "             Incentive\n",
       "State                 \n",
       "Hawaii            9.45\n",
       "California        4.07\n",
       "New Mexico        3.50\n",
       "New Jersey        3.25\n",
       "Connecticut       3.22"
      ]
     },
     "execution_count": 127,
     "metadata": {},
     "output_type": "execute_result"
    }
   ],
   "source": [
    "df2 = ((pd.read_excel('Solar_cost_by_state.xlsx', sheetname=\"Solar\", usecols=(0,3))).fillna(0)).set_index('State')\n",
    "\n",
    "df2 = df2.dropna()\n",
    "\n",
    "#Extracting Top 10 states that have high incentives \n",
    "\n",
    "df10INC = df2.nlargest(10, ['Incentive'])\n",
    "\n",
    "\n",
    "df10INC.head()"
   ]
  },
  {
   "cell_type": "code",
   "execution_count": 128,
   "metadata": {},
   "outputs": [
    {
     "data": {
      "text/html": [
       "<div>\n",
       "<style scoped>\n",
       "    .dataframe tbody tr th:only-of-type {\n",
       "        vertical-align: middle;\n",
       "    }\n",
       "\n",
       "    .dataframe tbody tr th {\n",
       "        vertical-align: top;\n",
       "    }\n",
       "\n",
       "    .dataframe thead th {\n",
       "        text-align: right;\n",
       "    }\n",
       "</style>\n",
       "<table border=\"1\" class=\"dataframe\">\n",
       "  <thead>\n",
       "    <tr style=\"text-align: right;\">\n",
       "      <th></th>\n",
       "      <th>Installation_count</th>\n",
       "    </tr>\n",
       "    <tr>\n",
       "      <th>State</th>\n",
       "      <th></th>\n",
       "    </tr>\n",
       "  </thead>\n",
       "  <tbody>\n",
       "    <tr>\n",
       "      <th>California</th>\n",
       "      <td>626824</td>\n",
       "    </tr>\n",
       "    <tr>\n",
       "      <th>Arizona</th>\n",
       "      <td>89363</td>\n",
       "    </tr>\n",
       "    <tr>\n",
       "      <th>Massachusetts</th>\n",
       "      <td>71421</td>\n",
       "    </tr>\n",
       "    <tr>\n",
       "      <th>New Jersey</th>\n",
       "      <td>51048</td>\n",
       "    </tr>\n",
       "    <tr>\n",
       "      <th>New York</th>\n",
       "      <td>51030</td>\n",
       "    </tr>\n",
       "  </tbody>\n",
       "</table>\n",
       "</div>"
      ],
      "text/plain": [
       "               Installation_count\n",
       "State                            \n",
       "California                 626824\n",
       "Arizona                     89363\n",
       "Massachusetts               71421\n",
       "New Jersey                  51048\n",
       "New York                    51030"
      ]
     },
     "execution_count": 128,
     "metadata": {},
     "output_type": "execute_result"
    }
   ],
   "source": [
    "#top 10 states with highest Rank of installations\n",
    "dfrank = ((pd.read_excel('Solar_cost_by_state.xlsx', sheetname=\"Rank1\", usecols=(1,2))).fillna(0)).set_index('State')\n",
    "\n",
    "df10Rank = dfrank.nlargest(10, ['Installation_count'])\n",
    "\n",
    "df10Rank.head()\n"
   ]
  },
  {
   "cell_type": "code",
   "execution_count": 129,
   "metadata": {},
   "outputs": [
    {
     "data": {
      "text/html": [
       "<div>\n",
       "<style scoped>\n",
       "    .dataframe tbody tr th:only-of-type {\n",
       "        vertical-align: middle;\n",
       "    }\n",
       "\n",
       "    .dataframe tbody tr th {\n",
       "        vertical-align: top;\n",
       "    }\n",
       "\n",
       "    .dataframe thead th {\n",
       "        text-align: right;\n",
       "    }\n",
       "</style>\n",
       "<table border=\"1\" class=\"dataframe\">\n",
       "  <thead>\n",
       "    <tr style=\"text-align: right;\">\n",
       "      <th></th>\n",
       "      <th>Cost/watt</th>\n",
       "    </tr>\n",
       "    <tr>\n",
       "      <th>State</th>\n",
       "      <th></th>\n",
       "    </tr>\n",
       "  </thead>\n",
       "  <tbody>\n",
       "    <tr>\n",
       "      <th>Hawaii</th>\n",
       "      <td>31.52</td>\n",
       "    </tr>\n",
       "    <tr>\n",
       "      <th>Massachusetts</th>\n",
       "      <td>22.19</td>\n",
       "    </tr>\n",
       "    <tr>\n",
       "      <th>Rhode Island</th>\n",
       "      <td>21.66</td>\n",
       "    </tr>\n",
       "    <tr>\n",
       "      <th>Connecticut</th>\n",
       "      <td>21.58</td>\n",
       "    </tr>\n",
       "    <tr>\n",
       "      <th>Alaska</th>\n",
       "      <td>21.10</td>\n",
       "    </tr>\n",
       "  </tbody>\n",
       "</table>\n",
       "</div>"
      ],
      "text/plain": [
       "               Cost/watt\n",
       "State                   \n",
       "Hawaii             31.52\n",
       "Massachusetts      22.19\n",
       "Rhode Island       21.66\n",
       "Connecticut        21.58\n",
       "Alaska             21.10"
      ]
     },
     "execution_count": 129,
     "metadata": {},
     "output_type": "execute_result"
    }
   ],
   "source": [
    "#top 10 states with highest electricity rate \n",
    "dfelec = ((pd.read_excel('Solar_cost_by_state.xlsx', sheetname=\"Electricity\", usecols=(0,1))).fillna(0)).set_index('State')\n",
    "\n",
    "df10Elec = dfelec.nlargest(10, ['Cost/watt'])\n",
    "\n",
    "df10Elec.head()"
   ]
  },
  {
   "cell_type": "code",
   "execution_count": 130,
   "metadata": {},
   "outputs": [
    {
     "data": {
      "text/html": [
       "<div>\n",
       "<style scoped>\n",
       "    .dataframe tbody tr th:only-of-type {\n",
       "        vertical-align: middle;\n",
       "    }\n",
       "\n",
       "    .dataframe tbody tr th {\n",
       "        vertical-align: top;\n",
       "    }\n",
       "\n",
       "    .dataframe thead th {\n",
       "        text-align: right;\n",
       "    }\n",
       "</style>\n",
       "<table border=\"1\" class=\"dataframe\">\n",
       "  <thead>\n",
       "    <tr style=\"text-align: right;\">\n",
       "      <th></th>\n",
       "      <th>Tax Credit</th>\n",
       "    </tr>\n",
       "    <tr>\n",
       "      <th>State</th>\n",
       "      <th></th>\n",
       "    </tr>\n",
       "  </thead>\n",
       "  <tbody>\n",
       "    <tr>\n",
       "      <th>Hawaii</th>\n",
       "      <td>5000</td>\n",
       "    </tr>\n",
       "    <tr>\n",
       "      <th>Iowa</th>\n",
       "      <td>5000</td>\n",
       "    </tr>\n",
       "    <tr>\n",
       "      <th>Indiana</th>\n",
       "      <td>5000</td>\n",
       "    </tr>\n",
       "    <tr>\n",
       "      <th>New York</th>\n",
       "      <td>5000</td>\n",
       "    </tr>\n",
       "    <tr>\n",
       "      <th>South Carolina</th>\n",
       "      <td>5000</td>\n",
       "    </tr>\n",
       "  </tbody>\n",
       "</table>\n",
       "</div>"
      ],
      "text/plain": [
       "                Tax Credit\n",
       "State                     \n",
       "Hawaii                5000\n",
       "Iowa                  5000\n",
       "Indiana               5000\n",
       "New York              5000\n",
       "South Carolina        5000"
      ]
     },
     "execution_count": 130,
     "metadata": {},
     "output_type": "execute_result"
    }
   ],
   "source": [
    "dftax = ((pd.read_excel('Solar_cost_by_state.xlsx', sheetname=\"Solar\", usecols=(0,5))).fillna(0)).set_index('State')\n",
    "\n",
    "dftax = dftax.dropna()\n",
    "\n",
    "dftax10 = dftax.nlargest(10, ['Tax Credit'])\n",
    "\n",
    "dftax10.head()"
   ]
  },
  {
   "cell_type": "code",
   "execution_count": 131,
   "metadata": {},
   "outputs": [
    {
     "data": {
      "image/png": "[encoded data removed]",
      "text/plain": [
       "<Figure size 720x720 with 1 Axes>"
      ]
     },
     "metadata": {
      "needs_background": "light"
     },
     "output_type": "display_data"
    }
   ],
   "source": [
    "# Creating a bar diagram showing top 10 states with highest tax credit\n",
    "\n",
    "axtax = dftax10.plot( kind='bar', width= .5, figsize = (10,10),  fontsize = 14, \n",
    "                     title = 'Top 10 States with Highest Tax Credit', color=[ 'pink'])\n",
    "plt.show()\n",
    "\n",
    "\n"
   ]
  },
  {
   "cell_type": "code",
   "execution_count": 132,
   "metadata": {},
   "outputs": [
    {
     "data": {
      "image/png": "[encoded data removed]",
      "text/plain": [
       "<Figure size 720x720 with 1 Axes>"
      ]
     },
     "metadata": {
      "needs_background": "light"
     },
     "output_type": "display_data"
    }
   ],
   "source": [
    "# Creating a bar diagram showing top 10 states with highest incentives\n",
    "\n",
    "ax1nc = df10INC.plot( kind='bar', width= .5, figsize = (10,10),  fontsize = 14, \n",
    "                 title = 'Top 10 States with Highest Incentives', color=[ 'orange'])\n",
    "plt.show()\n",
    "\n"
   ]
  },
  {
   "cell_type": "code",
   "execution_count": 133,
   "metadata": {},
   "outputs": [
    {
     "data": {
      "image/png": "[encoded data removed]",
      "text/plain": [
       "<Figure size 720x720 with 1 Axes>"
      ]
     },
     "metadata": {
      "needs_background": "light"
     },
     "output_type": "display_data"
    }
   ],
   "source": [
    "\n",
    "# Creating a bar diagram showing top 10 states with highest Electricity rate\n",
    "ax3 = df10Elec.plot( kind='bar', width= .5, figsize = (10,10),  fontsize = 14, \n",
    "                 title = 'Top 10 States with Highest Electricity/Watt Rate ', color=[ 'green'] )\n",
    "\n",
    "plt.show()"
   ]
  },
  {
   "cell_type": "code",
   "execution_count": 134,
   "metadata": {},
   "outputs": [
    {
     "data": {
      "image/png": "[encoded data removed]",
      "text/plain": [
       "<Figure size 720x720 with 1 Axes>"
      ]
     },
     "metadata": {
      "needs_background": "light"
     },
     "output_type": "display_data"
    }
   ],
   "source": [
    "\n",
    "# Creating a bar diagram showing top 10 states with highest Rank of installations\n",
    "\n",
    "ax2 = df10Rank.plot( kind='bar', width= .5, figsize = (10,10),  fontsize = 14, \n",
    "                 title = 'Top 10 States with Highest Count of Solar Installations ', color=[ 'grey'])\n",
    "plt.show()\n"
   ]
  },
  {
   "cell_type": "code",
   "execution_count": null,
   "metadata": {},
   "outputs": [],
   "source": []
  },
  {
   "cell_type": "code",
   "execution_count": null,
   "metadata": {},
   "outputs": [],
   "source": []
  }
 ],
 "metadata": {
  "kernelspec": {
   "display_name": "Python 2",
   "language": "python",
   "name": "python2"
  },
  "language_info": {
   "codemirror_mode": {
    "name": "ipython",
    "version": 2
   },
   "file_extension": ".py",
   "mimetype": "text/x-python",
   "name": "python",
   "nbconvert_exporter": "python",
   "pygments_lexer": "ipython2",
   "version": "2.7.15"
  }
 },
 "nbformat": 4,
 "nbformat_minor": 1
}
